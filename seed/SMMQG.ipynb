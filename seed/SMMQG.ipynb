{
 "cells": [
  {
   "cell_type": "markdown",
   "id": "a15816da",
   "metadata": {},
   "source": [
    "# Synthetic Multimodal Question Generation"
   ]
  },
  {
   "cell_type": "code",
   "execution_count": 1,
   "id": "586a13ab",
   "metadata": {},
   "outputs": [
    {
     "data": {
      "text/plain": [
       "False"
      ]
     },
     "execution_count": 1,
     "metadata": {},
     "output_type": "execute_result"
    }
   ],
   "source": [
    "%load_ext autoreload\n",
    "%autoreload 2\n",
    "\n",
    "import os\n",
    "from dotenv import load_dotenv\n",
    "load_dotenv()"
   ]
  },
  {
   "cell_type": "markdown",
   "id": "8f8a0ebc",
   "metadata": {},
   "source": [
    "## 1. Read & Preprocess PDF file\n",
    "\n",
    "---"
   ]
  },
  {
   "cell_type": "markdown",
   "id": "fa966981",
   "metadata": {},
   "source": [
    "### Split the PDFs into individual pages"
   ]
  },
  {
   "cell_type": "code",
   "execution_count": 2,
   "id": "8a0d9863",
   "metadata": {},
   "outputs": [
    {
     "name": "stdout",
     "output_type": "stream",
     "text": [
      "Domain: VNeID Application Usage Guide in Vietnam, Language: Vietnamese, Language Code: vi\n"
     ]
    }
   ],
   "source": [
    "import shutil, random\n",
    "import openai\n",
    "from unstructured.cleaners.core import clean_bullets, clean_extra_whitespace, remove_punctuation\n",
    "from langchain_community.document_loaders import UnstructuredFileLoader, UnstructuredMarkdownLoader, UnstructuredAPIFileLoader\n",
    "from langchain_community.document_loaders.csv_loader import CSVLoader, UnstructuredCSVLoader\n",
    "from langchain_ollama import ChatOllama\n",
    "from util.common_utils import get_language_code\n",
    "\n",
    "raw_data_dir = \"../raw_data\"\n",
    "\n",
    "splitted_raw_data_dir = \"splitted_raw_data\"\n",
    "file_path = f\"{raw_data_dir}/pdf/vi-vneid.pdf\"\n",
    "\n",
    "DOMAIN = \"VNeID Application Usage Guide in Vietnam\"\n",
    "LANGUAGE = \"Vietnamese\" # You can change your language here. e.g., \"Korean\", \"Japanese\", \"Chinese\"\n",
    "LANGUAGE_CODE = get_language_code(LANGUAGE)\n",
    "print(f\"Domain: {DOMAIN}, Language: {LANGUAGE}, Language Code: {LANGUAGE_CODE}\")"
   ]
  },
  {
   "cell_type": "code",
   "execution_count": 3,
   "id": "1d248d54",
   "metadata": {},
   "outputs": [],
   "source": [
    "# (Optional) Only use a poration of the PDF documents for testing. If there are a lot of pages or partial processing is required, cut and save only some pages.\n",
    "import fitz\n",
    "\n",
    "# Open the first PDF document\n",
    "doc1 = fitz.open(file_path)\n",
    "split_pages = [(7, 15)]\n",
    "\n",
    "for idx, s in enumerate(split_pages):\n",
    "    # Create a new empty PDF document\n",
    "    doc2 = fitz.open()\n",
    "\n",
    "    # Insert the first 2 pages of doc1 into doc2\n",
    "    doc2.insert_pdf(doc1, from_page=s[0], to_page=s[1])\n",
    "\n",
    "    # Save the modified document\n",
    "    doc2.save(f\"{raw_data_dir}/part{idx}.pdf\")"
   ]
  },
  {
   "cell_type": "code",
   "execution_count": 14,
   "id": "e499859a",
   "metadata": {},
   "outputs": [
    {
     "data": {
      "text/plain": [
       "'../raw_data/part0.pdf'"
      ]
     },
     "execution_count": 14,
     "metadata": {},
     "output_type": "execute_result"
    }
   ],
   "source": [
    "from util.common_utils import delete_folder_and_make_folder\n",
    "from util.preprocess import remove_short_sentences, remove_small_images, split_pdf\n",
    "from collections import defaultdict\n",
    "\n",
    "file_path = f\"{raw_data_dir}/part0.pdf\"\n",
    "file_path"
   ]
  },
  {
   "cell_type": "code",
   "execution_count": 15,
   "id": "6d54d481",
   "metadata": {},
   "outputs": [],
   "source": [
    "def analyze_pdf_page_content(pdf_path, text_length_thres=600):\n",
    "    document = fitz.open(pdf_path)\n",
    "    page_analysis = defaultdict(list)\n",
    "\n",
    "    for page_num in range(len(document)):\n",
    "        page = document.load_page(page_num)\n",
    "        text = page.get_text(\"text\")\n",
    "        image_list = page.get_images(full=True)\n",
    "\n",
    "        text_length = len(text)\n",
    "        num_images = len(image_list)\n",
    "\n",
    "        if text_length > text_length_thres and num_images == 0:\n",
    "            content_type = 'Text'\n",
    "        elif text_length <= text_length_thres and num_images > 0:\n",
    "            content_type = 'Image'\n",
    "        else:\n",
    "            content_type = 'Mixed'            \n",
    "\n",
    "        page_analysis[content_type].append(page_num)\n",
    "\n",
    "    return dict(page_analysis)\n"
   ]
  },
  {
   "cell_type": "code",
   "execution_count": 16,
   "id": "a62423ea",
   "metadata": {},
   "outputs": [
    {
     "data": {
      "text/plain": [
       "{'Text': [0], 'Mixed': [1, 2, 3, 5, 6, 7], 'Image': [4, 8]}"
      ]
     },
     "execution_count": 16,
     "metadata": {},
     "output_type": "execute_result"
    }
   ],
   "source": [
    "analyzed_pdf_result = analyze_pdf_page_content(file_path, text_length_thres=100)\n",
    "analyzed_pdf_result"
   ]
  },
  {
   "cell_type": "code",
   "execution_count": null,
   "id": "f27a660b",
   "metadata": {},
   "outputs": [],
   "source": []
  }
 ],
 "metadata": {
  "kernelspec": {
   "display_name": "gen-qa",
   "language": "python",
   "name": "python3"
  },
  "language_info": {
   "codemirror_mode": {
    "name": "ipython",
    "version": 3
   },
   "file_extension": ".py",
   "mimetype": "text/x-python",
   "name": "python",
   "nbconvert_exporter": "python",
   "pygments_lexer": "ipython3",
   "version": "3.10.16"
  }
 },
 "nbformat": 4,
 "nbformat_minor": 5
}
