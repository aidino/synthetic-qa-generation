{
 "cells": [
  {
   "cell_type": "markdown",
   "metadata": {},
   "source": [
    "# Generate QnA synthetic dataset from a Complex PDF using Unstructured\n",
    "\n",
    "### Overview\n",
    "\n",
    "We process the PDF by dividing it into three parts.\n",
    "\n",
    "-   **Text-heavy** - Text-heavy PDF can be processed with open source without the need to use toolkits like Azure AI Document Intelligence or Unstructured.\n",
    "-   **Image-heavy** - Image-heavy PDF can be converted the entire page to images and let a multimodal LLM like GPT-4o summarize each page.\n",
    "-   **Mixed** - After reading the document with Azure AI Document Intelligence, we replace the image descriptions inside the figure tags with text summarized by a multimodal LLM. (Often the image descriptions are blank or have only a short caption.)\n",
    "\n",
    "![summary](../imgs/summary-creating-qna-pdf.png)\n"
   ]
  },
  {
   "cell_type": "code",
   "execution_count": 3,
   "metadata": {
    "tags": []
   },
   "outputs": [],
   "source": [
    "%load_ext autoreload\n",
    "%autoreload 2"
   ]
  },
  {
   "cell_type": "code",
   "execution_count": 4,
   "metadata": {},
   "outputs": [],
   "source": [
    "import os\n",
    "from dotenv import load_dotenv\n",
    "load_dotenv()\n",
    "\n",
    "# aoai_api_endpoint = os.getenv(\"AZURE_OPENAI_ENDPOINT\")\n",
    "# aoai_api_key = os.getenv(\"AZURE_OPENAI_API_KEY\")\n",
    "# aoai_api_version = os.getenv(\"AZURE_OPENAI_API_VERSION\")\n",
    "# aoai_deployment_name = os.getenv(\"AZURE_OPENAI_DEPLOYMENT_NAME\")\n",
    "\n",
    "# if not aoai_api_version:\n",
    "#     aoai_api_version = os.getenv(\"OPENAI_API_VERSION\")\n",
    "# if not aoai_deployment_name:\n",
    "#     aoai_deployment_name = os.getenv(\"DEPLOYMENT_NAME\")\n",
    "    \n",
    "# print(f\"aoai_api_endpoint: {aoai_api_endpoint}\")\n",
    "# print(f\"aoai_api_key: {aoai_api_key}\")\n",
    "# print(f\"aoai_api_version: {aoai_api_version}\")\n",
    "# print(f\"aoai_deployment_name: {aoai_deployment_name}\")\n",
    "\n",
    "openai_key = os.getenv('OPENAI_API_KEY')\n",
    "# print(f\"{openai_key=}\")"
   ]
  },
  {
   "cell_type": "markdown",
   "metadata": {},
   "source": [
    "## 1. Read & Preprocess PDF file\n",
    "\n",
    "---\n"
   ]
  },
  {
   "cell_type": "markdown",
   "metadata": {},
   "source": [
    "### Split the PDFs into individual pages\n"
   ]
  },
  {
   "cell_type": "code",
   "execution_count": 5,
   "metadata": {},
   "outputs": [
    {
     "name": "stdout",
     "output_type": "stream",
     "text": [
      "Domain: VNeID Application Usage Guide in Vietnam, Language: Vietnamese, Language Code: vi\n"
     ]
    }
   ],
   "source": [
    "import shutil, random\n",
    "import openai\n",
    "from unstructured.cleaners.core import clean_bullets, clean_extra_whitespace, remove_punctuation\n",
    "from langchain_community.document_loaders import UnstructuredFileLoader, UnstructuredMarkdownLoader, UnstructuredAPIFileLoader\n",
    "from langchain_community.document_loaders.csv_loader import CSVLoader, UnstructuredCSVLoader\n",
    "from langchain_ollama import ChatOllama\n",
    "from util.common_utils import get_language_code\n",
    "\n",
    "raw_data_dir = \"../raw_data\"\n",
    "splitted_raw_data_dir = \"splitted_raw_data\"\n",
    "file_path = f\"{raw_data_dir}/pdf/vi-vneid.pdf\"\n",
    "\n",
    "DOMAIN = \"VNeID Application Usage Guide in Vietnam\"\n",
    "LANGUAGE = \"Vietnamese\" # You can change your language here. e.g., \"Korean\", \"Japanese\", \"Chinese\"\n",
    "LANGUAGE_CODE = get_language_code(LANGUAGE)\n",
    "print(f\"Domain: {DOMAIN}, Language: {LANGUAGE}, Language Code: {LANGUAGE_CODE}\")"
   ]
  },
  {
   "cell_type": "markdown",
   "metadata": {},
   "source": [
    "(Optional) Only use a poration of the PDF documents for testing. If there are a lot of pages or partial processing is required, cut and save only some pages.\n"
   ]
  },
  {
   "cell_type": "code",
   "execution_count": 6,
   "metadata": {},
   "outputs": [],
   "source": [
    "import fitz\n",
    "\n",
    "# Open the first PDF document\n",
    "doc1 = fitz.open(file_path)\n",
    "split_pages = [(7, 15)]\n",
    "\n",
    "for idx, s in enumerate(split_pages):\n",
    "    # Create a new empty PDF document\n",
    "    doc2 = fitz.open()\n",
    "\n",
    "    # Insert the first 2 pages of doc1 into doc2\n",
    "    doc2.insert_pdf(doc1, from_page=s[0], to_page=s[1])\n",
    "\n",
    "    # Save the modified document\n",
    "    doc2.save(f\"{raw_data_dir}/part{idx}.pdf\")"
   ]
  },
  {
   "cell_type": "code",
   "execution_count": 7,
   "metadata": {},
   "outputs": [
    {
     "name": "stdout",
     "output_type": "stream",
     "text": [
      "The folder 'splitted_raw_data' and its contents have been deleted.\n",
      "### PDF Content Analysis Result:\n",
      "Text pages: [0]\n",
      "Mixed pages: [1, 2, 3, 5, 6, 7]\n",
      "Image pages: [4, 8]\n"
     ]
    }
   ],
   "source": [
    "from util.common_utils import delete_folder_and_make_folder\n",
    "from util.preprocess import remove_short_sentences, remove_small_images, analyze_pdf_page_content, split_pdf\n",
    "\n",
    "file_path = f\"{raw_data_dir}/part0.pdf\"\n",
    "analyzed_pdf_result = analyze_pdf_page_content(file_path, text_length_thres=100)\n",
    "delete_folder_and_make_folder(splitted_raw_data_dir)    \n",
    "print(\"### PDF Content Analysis Result:\")\n",
    "for content_type, pages in analyzed_pdf_result.items():\n",
    "    print(f\"{content_type} pages: {pages}\")\n",
    "    split_pdf(file_path, f\"{splitted_raw_data_dir}/{content_type}.pdf\", pages)"
   ]
  },
  {
   "cell_type": "markdown",
   "metadata": {},
   "source": [
    "### Case 1: Mixed page (Images and text mixed appropriately)\n",
    "\n",
    "After reading the document with UnstructuredFileLoader, we replace the image descriptions inside the figure tags with text summarized by a multimodal LLM. (Often the image descriptions are blank or have only a short caption.)\n",
    "\n",
    "- Download tesseract language\n",
    "\n",
    "```bash\n",
    "sudo apt-get install tesseract-ocr-eng\n",
    "sudo apt-get install tesseract-ocr-vie\n",
    "\n",
    "# Check list lang\n",
    "tesseract --list-langs\n",
    "```\n"
   ]
  },
  {
   "cell_type": "code",
   "execution_count": 8,
   "metadata": {},
   "outputs": [
    {
     "name": "stderr",
     "output_type": "stream",
     "text": [
      "<timed exec>:10: LangChainDeprecationWarning: The class `UnstructuredFileLoader` was deprecated in LangChain 0.2.8 and will be removed in 1.0. An updated version of the class exists in the :class:`~langchain-unstructured package and should be used instead. To use it run `pip install -U :class:`~langchain-unstructured` and import as `from :class:`~langchain_unstructured import UnstructuredLoader``.\n",
      "/home/dino/miniconda3/envs/qa-gen/lib/python3.10/site-packages/tqdm/auto.py:21: TqdmWarning: IProgress not found. Please update jupyter and ipywidgets. See https://ipywidgets.readthedocs.io/en/stable/user_install.html\n",
      "  from .autonotebook import tqdm as notebook_tqdm\n"
     ]
    },
    {
     "name": "stdout",
     "output_type": "stream",
     "text": [
      "CPU times: user 2min 25s, sys: 2.64 s, total: 2min 27s\n",
      "Wall time: 37.4 s\n"
     ]
    }
   ],
   "source": [
    "%%time\n",
    "\n",
    "pdf_mixed_path = f\"{splitted_raw_data_dir}/Mixed.pdf\"\n",
    "\n",
    "chunk_size = 1500\n",
    "new_after_n_chars = 1200\n",
    "combine_text_under_n_chars = 1000\n",
    "chunk_overlap = 100\n",
    "max_tokens = 1024\n",
    "image_dir = \"images\"\n",
    "\n",
    "loader = UnstructuredFileLoader(\n",
    "    file_path=pdf_mixed_path,\n",
    "\n",
    "    chunking_strategy = \"by_title\",\n",
    "    mode=\"elements\",\n",
    "\n",
    "    extract_image_block_types=[\"Image\", \"Table\"],\n",
    "    hi_res_model_name=\"yolox\", #\"detectron2_onnx\", \"yolox\", \"yolox_quantized\"\n",
    "\n",
    "    extract_images_in_pdf=True,\n",
    "    skip_infer_table_types='[]', # ['pdf', 'jpg', 'png', 'xls', 'xlsx', 'heic']\n",
    "    #skip_infer_table_types=True, ## enable to get table as html using tabletrasformer\n",
    "\n",
    "    extract_image_block_output_dir=image_dir,\n",
    "    extract_image_block_to_payload=False, ## False: to save image\n",
    "\n",
    "    max_characters=chunk_size,\n",
    "    new_after_n_chars=new_after_n_chars,\n",
    "    combine_text_under_n_chars=combine_text_under_n_chars, # Text less than this number of characters will be combined\n",
    "\n",
    "    languages= [\"vie\"],\n",
    "\n",
    "    post_processors=[clean_bullets, clean_extra_whitespace, remove_punctuation]\n",
    ")\n",
    "docs = loader.load()"
   ]
  },
  {
   "cell_type": "code",
   "execution_count": 9,
   "metadata": {},
   "outputs": [
    {
     "name": "stdout",
     "output_type": "stream",
     "text": [
      " # texts: 3 \n",
      " # tables: 0 \n",
      " # images: 9\n"
     ]
    }
   ],
   "source": [
    "images = remove_small_images(image_dir, image_dim_thres=16)\n",
    "tables, texts = [], []\n",
    "\n",
    "for doc in docs:\n",
    "    category = doc.metadata[\"category\"]\n",
    "    if category == \"Table\": tables.append(doc)\n",
    "    else: texts.append(doc)\n",
    "\n",
    "print (f' # texts: {len(texts)} \\n # tables: {len(tables)} \\n # images: {len(images)}')"
   ]
  },
  {
   "cell_type": "markdown",
   "metadata": {},
   "source": [
    "#### Summarize images\n"
   ]
  },
  {
   "cell_type": "code",
   "execution_count": 10,
   "metadata": {},
   "outputs": [],
   "source": [
    "from langchain.schema.output_parser import StrOutputParser\n",
    "from langchain_core.prompts import ChatPromptTemplate, HumanMessagePromptTemplate, SystemMessagePromptTemplate\n",
    "from langchain_ollama import ChatOllama\n",
    "# from langchain_openai import AzureChatOpenAI\n",
    "\n",
    "# llm = AzureChatOpenAI(\n",
    "#     temperature=0, \n",
    "#     max_tokens=max_tokens,\n",
    "#     openai_api_version=aoai_api_version,\n",
    "#     azure_deployment=aoai_deployment_name             \n",
    "# )\n",
    "llm = ChatOllama(\n",
    "    model=\"gemma3:4b-it-qat\",\n",
    "    temperature=0,\n",
    "    base_url=\"http://localhost:11434\",\n",
    "    num_predict=max_tokens\n",
    ")\n",
    "\n",
    "system_prompt = \"You are an assistant tasked with describing table or image\"\n",
    "system_message_template = SystemMessagePromptTemplate.from_template(system_prompt)\n",
    "human_prompt = [\n",
    "    {\n",
    "        \"type\": \"image_url\",\n",
    "        \"image_url\": {\n",
    "            \"url\": \"data:image/png;base64,\" + \"{image_base64}\",\n",
    "        },\n",
    "    },\n",
    "    {\n",
    "        \"type\": \"text\",\n",
    "        \"text\": f\"Given image, give a concise summary in {LANGUAGE}. Don't insert any XML tag such as <text> and </text> when answering.\"\n",
    "    },\n",
    "]\n",
    "human_message_template = HumanMessagePromptTemplate.from_template(human_prompt)\n",
    "\n",
    "prompt = ChatPromptTemplate.from_messages(\n",
    "    [\n",
    "        system_message_template,\n",
    "        human_message_template\n",
    "    ]\n",
    ")\n",
    "\n",
    "summarize_chain = prompt | llm | StrOutputParser()\n",
    "#summarize_chain = {\"image_base64\": lambda x:x} | prompt | llm_text | StrOutputParser()"
   ]
  },
  {
   "cell_type": "code",
   "execution_count": 11,
   "metadata": {},
   "outputs": [
    {
     "name": "stdout",
     "output_type": "stream",
     "text": [
      "CPU times: user 442 ms, sys: 20 ms, total: 462 ms\n",
      "Wall time: 23min 2s\n"
     ]
    }
   ],
   "source": [
    "%%time\n",
    "from util.preprocess import encode_image_base64\n",
    "#images = glob(os.path.join(image_path, \"*.jpg\"))\n",
    "base64_images = [encode_image_base64(img_path) for img_path in images]\n",
    "image_summaries = summarize_chain.batch(base64_images, {\"max_concurrency\": 3})\n",
    "image_summaries = remove_short_sentences(image_summaries)"
   ]
  },
  {
   "cell_type": "code",
   "execution_count": 12,
   "metadata": {},
   "outputs": [
    {
     "data": {
      "text/plain": [
       "['Hình ảnh hiển thị giao diện ứng dụng liên quan đến phòng chống Covid-19, bao gồm mã QR, thông tin về việc đăng ký, và các biểu tượng khác như tìm kiếm, trò chơi, và thông tin.',\n",
       " 'Hình ảnh mô tả các thủ tục liên quan đến việc đăng ký và sử dụng hộ tịch, đặc biệt là các thủ tục liên quan đến Cần Cước Dân và việc sử dụng các giấy tờ hộ tịch. Cụ thể, có các thủ tục đăng ký hộ tịch mức 1 và mức 2, cũng như việc chia sẻ thông tin hộ tịch cho các cơ quan chức năng.',\n",
       " 'Hình ảnh hiển thị giao diện ứng dụng VNID, có chức năng bản đồ và bảo vệ thông tin cá nhân. Ứng dụng này phù hợp cho người dùng từ 3 tuổi trở lên, dung lượng 4MB và đạt đánh giá 2.9 sao.',\n",
       " 'Hình ảnh hiển thị một bàn phím điện thoại với các chữ cái tiếng Việt và một thanh tìm kiếm hiển thị các từ \"vneid\" và \"vneid\".',\n",
       " 'Hình ảnh hiển thị giao diện của ứng dụng VNeID, bao gồm các tùy chọn như VNeID, VNeID của bộ công an, và ứng dụng VNeID.',\n",
       " 'Hình ảnh hiển thị màn hình điện thoại với các ứng dụng Google, Cửa hàng Google Play, danh bạ, cài đặt và ứng dụng đồng hồ. Nhiệt độ hiện tại là 34°C và vị trí là Hà Nội.',\n",
       " 'Hình ảnh hiển thị một màn hình điện thoại với các ứng dụng như Mail, Podcast, App Store và Tiện ích.',\n",
       " 'Hình ảnh hiển thị ứng dụng VNID, có chức năng quản lý dữ liệu quốc gia và quét mã QR. Ứng dụng này có 9 bài đánh giá, dung lượng 4.0 MB và phù hợp với người dùng từ 3 tuổi trở lên.',\n",
       " 'Hình ảnh hiển thị một màn hình điện thoại iPhone với các ứng dụng như Dịch thuật, Danh bạ, Phim ảnh, Watch, Mèo, Tiện ích, Năng suất, CGV Cinemas và Số thu chi.']"
      ]
     },
     "execution_count": 12,
     "metadata": {},
     "output_type": "execute_result"
    }
   ],
   "source": [
    "image_summaries\n",
    "\n",
    "# image_summaries = ['Hình ảnh hiển thị một màn hình điện thoại iPhone với các ứng dụng như Dịch thuật, Danh bạ, Phim ảnh, Watch, Mèo, Tiện ích, Năng suất, CGV Cinemas và Số thu chi.',\n",
    "#  'Hình ảnh hiển thị giao diện ứng dụng liên quan đến phòng chống Covid-19, bao gồm mã QR, thông tin về việc đăng ký, và các biểu tượng khác như tìm kiếm, trò chơi, và thông tin.',\n",
    "#  'Hình ảnh hiển thị giao diện ứng dụng VNID. Ứng dụng này có chức năng bản đồ, cung cấp thông tin liên hệ và hỗ trợ người dùng. Ứng dụng được đánh giá 2.9 sao, dung lượng 4MB và phù hợp cho độ tuổi từ 3 trở lên.',\n",
    "#  'Hình ảnh hiển thị ứng dụng VNID, có chức năng quản lý dữ liệu quốc gia và quét mã QR. Ứng dụng này có 9 bài đánh giá, dung lượng 4.0 MB và phù hợp với người dùng từ 3 tuổi trở lên.',\n",
    "#  'Hình ảnh hiển thị một giao diện tìm kiếm với các dòng tìm kiếm liên quan đến từ \"vneid\".',\n",
    "#  'Hình ảnh mô tả quy trình đăng ký và sử dụng bản Cấp có dữ liệu Quốc gia, bao gồm cả việc tích hợp thông tin từ các hệ thống khác nhau và cung cấp thông tin cho người dùng.',\n",
    "#  'Ảnh chụp màn hình hiển thị giao diện màn hình điện thoại với các ứng dụng như Google, Cửa hàng Google Play, cuộc gọi, cài đặt và ứng dụng hình ảnh.',\n",
    "#  'Hình ảnh hiển thị giao diện của ứng dụng VNeID, bao gồm các tùy chọn như VNeID, VNeID của bộ công an, và ứng dụng VNeID.',\n",
    "#  'Hình ảnh hiển thị một màn hình điện thoại với các ứng dụng như Mail, Podcast, App Store và Tiện ích.']"
   ]
  },
  {
   "cell_type": "code",
   "execution_count": 25,
   "metadata": {},
   "outputs": [
    {
     "data": {
      "text/plain": [
       "[Document(metadata={'source': 'splitted_raw_data/Mixed.pdf', 'filetype': 'application/pdf', 'languages': ['vie'], 'last_modified': '2025-04-25T08:57:55', 'page_number': 1, 'orig_elements': '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', 'file_directory': 'splitted_raw_data', 'filename': 'Mixed.pdf', 'category': 'CompositeElement', 'element_id': 'b20147f7e2e2026c43d28b90bbf8e28f'}, page_content='15 Chức năng chung Đăng nhập  Đăng ký mức 0  Quên mật khẩu  Đăng ký mức 1  Kích hoạt tài khoản Trang chủ  Ví giấy tờ  Tab Cá nhân  Đổi tài khoản  Thông báo lưu trú 8 Đăng ký tài khoản định danh điện từ x< ® Đăng ký tài khoản định danh điện từ mức 1 thực hiện trực tuyến Đặt lịch đăng ký tài khoản định danh điện tử mức 2 thực hiện trực tiếp tại cơ quan Công an Ê Kiểm tra tình trạng xử lý hồ sơ Điều khoản sử dụng ứng dụng và dịch vụ Tài khoản mức 1 Danh sách dịch vụ tài khoản mức 1  Phòng chống dịch ⁄ Tích hợp thông tin cá nhân từ Cơ sờ dữ liệu Quốc gia về Dân cư w⁄ Dịch vụ công Quốc gia w Cập nhật các tin tức bài viết thông báo mới nhất từ Bộ Công An w Thanh toán hóa đơn Tài khoản mức 2 Các dịch vụ như tài khoản mức 1 và kèm theo ⁄ Tích hợp thông tin thẻ Căn cước công dân từ hệ thống Căn cước công dân Quốc gia S Tích hợp thông tin các loại giấy tờ tùy thân thông tin người phụ thuộc và các nhóm thông tin của các Bộ Ban ngành ⁄ Dịch vụ an sinh xã hội w Chia sè thông tin đã được định danh điện từ cho các hân thi ha'),\n",
       " Document(metadata={'source': 'splitted_raw_data/Mixed.pdf', 'filetype': 'application/pdf', 'languages': ['vie'], 'last_modified': '2025-04-25T08:57:55', 'page_number': 1, 'orig_elements': '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', 'file_directory': 'splitted_raw_data', 'filename': 'Mixed.pdf', 'category': 'CompositeElement', 'element_id': '45b9ed1dd369794530ce8a8bbc2a84d5'}, page_content='Hình 1 Giao diện trang chủ mức 0 9 2 HƯỚNG DẪN SỬ DỤNG 21 Hướng dẫn cài đặt 211 Đối với hệ điều hành Android Cài đặt ứng dụng từ CH Play  Bước 1 NSD truy cập ứng dụng CH Play Tại thanh công cụ tìm kiếm Tìm từ khoá VNeID 1044 0© ` € vNeb x ` vnep Q vnedu K QL vneidbộ công an K ÓL vneid của bộ công an K Q vinidapp K €L vneid khai bảo y tế RK © 6  ÿ  112314|56178|9|0 qwertyu i op alsldjflg|h|lj|kll Wz|xiIc|v|bÏn MH   TiếgVệ 3 lo Hình 211 Tìm kiếm ứng dụng trên CH Play  Bước 2 Sau khi App cần tải hiển thị Chọn  Cài đặt để tải App Ứng dụng định danh điện tử  VNeID về máy 10 ä 1045 Ø®O ạ 2u © Q VNelD Trung tâm đữ liệu quốc gia về dân cư  Bộ Công an Thông tfliên hệ của nhà phát  Về ửng dụng này >  Ứng dụng khai báo di chuyến nội địa khai bảo y tế nhanh chóng Sức khỏe và Thế hình 29 s kh 9 N bài đánh giá ® 40 MB Phủ hợp cho 3 tuối tr 104  2 uim en6 VNelD Trung tâm đữ liệu quốc gia vế dân cư  Bộ Công an Tính năng mới  > Cập nhật lắn cuối 10 thg 11 2021 Thông tin bản cập nhật Bồ sung tỉnh năng quét QR code theo mục địch quét Thông tin liên hệ của nhà phát  Về ứng dụng này > Ứng dụng khai báo di chuyển nội địa khai báo y tế nhanh chóng Sức khỏe và Thế hình 29 s k5 © 40 MB Phú hợp cho 3 tuổi trí'),\n",
       " Document(metadata={'source': 'splitted_raw_data/Mixed.pdf', 'filetype': 'application/pdf', 'languages': ['vie'], 'last_modified': '2025-04-25T08:57:55', 'page_number': 3, 'orig_elements': 'eJztWltv28gV/isDPfSlGXbuFwMLtJtF0QDdNN2k+5IExlwlbqxLbdpr77b/vYczpCtZTGJ7QwcF6gdL84mHIvmd853L6O2vi3SW1mnTnbZxcYIWSmWqWDI4UGuwMJFiH0TAWkeeeRSambR4hhbr1LnoOgc2vy7Cdnse243r0kVZn7mb7WV3ukrtctUBwji3YDPAP7exWwFKlRSA7rbtpuvt3r5VXDXsGaJc00a+f4ZuAUFpQ3qAwl/DJ5FqBNDi4uaiS+v+bl611+ns9c6FtPg3fBBTl0LXbjen4cxdXJzuzrceDiONpJLCORa5PUvdzS4V21ffL8pFb5aXblnu7O3iqk2L9wW96E7X29jmNpXnxgiTmAjM5BtiTqQ+kbK33oHl6eZy7dM5HMX7i+jSdf9MFn95d0lICpsVYg3FDD0va9IieIV7endJk9cd6l+T3SxRLO/kZtmfd7zIN213Vu7tLo/MUm5zVNhxy7CwWWHvcsQ5ckWdISQkMRuPjLJG9SQJ1tiepBGQXDaqsCaJasQkUo0exyPctHxiGjH6tifMk56e6APiJ+jl6+9QWPVAiBtgkBEavi+f57KIexwHjtb1owmq94/z4CnRwb+KtQXUG9SVgyPC6MeX6cV36KqsvasfON42+w7z1/aie9E/1QmfAb9wiQePuQoZC+4FdiIwLGMmznMXImXz+QzTDekdQsnBZwZASXvHQ46RavQ4nzGcCPW1nUacoNfuEn1Ytbe0VSID7V97YUBhUiCeFW8rNnIzeJ2jN1PONJ5oPLg65rdlmbu90zp9iS4Gt7o1n/Lcrnihzxu0qucG9zwyRG63O7mvDzrLdKAkY8mMwIIaiX00BntFYhQgWom62XzQCNOAflAiGtH717gWZFhbPrkux3/S+2Z2LrHvXDVIx2/7xybAc1luz9tfUnzTHzLx1BUXIgXpMc0Csr7VGVsZDI4+cZlFJtHMmC04bzQ8Rc1q0h/WjKn6lLVSffK4u67HPy7mtbFPkCcOWIEk37AaPTXq6RDh0beo5gp9IO30ci+oXvzt9b3SfhLROqUJZoISLLJI2ArLcfYk+RRcCJbMSGRRYyb5SGRdQ5SYQhwXfTV3tC7HP1K8GbH2iZm8d6E2pGaP/rTbodfd9jztc/jSnZ+7rr1KHwtKELsMbpKwCdFiQVTEJsWADbdBQ2KGEng+KeyDECDOBq7GteINK6mXCNtH4TFQLB4ZlsoQ88RsHqViWuu3sSjrubvouUPdeSHeQcm1GvJeh3ytzVDcd4doD6v0TyU8KwyjwkdMgoeiK4aAnYa6XVqjXCZcMD6f9CqhGziQG1tZHtaU8yHDUWLoNFJtHpr02nXPxM6V66mriz/kdnl5nrDAqvlpt5yV7X1WXvTfPimiOVAVA4ioEQ4LFjR2iSRMHFUhEOuVDzP2wKRkNy7NwMkIWDt2vMTUjvcYKUaPCz6uCHuCHviAjsMeWKAfq7RuoRDefqbz/XNxmudu19/LFIvRaJlZoFBJWnAuERS2ilGcQohcQ2fGDJ1RPmUJGzEWLbeAsg2vcURJnWQcI8XokRJKhNRfW0LZCXpT+5C26miSoUd6rtfowyCe66Kzyx7OcmhGSgtbO437CihEpiYmWaylA54lXL01kmJjvBFZGR/zfNH6P9sxyIOOgT+4Y0igiFQTibURDIsAzZox8KXSeW+D4wry2nwayVgJJj1K5LAmEGTyVhDJJKI/q5APTFvwCOZIW4cEkRNq0btFDZKm6WsN4uy7d3Xm8y/0R1SkNNub8lEg6GqT2jguoAOvQDMi/50ylOP+iX5GCZ2jrkM36LKeniKyQ665aCLKqFmiFfoJfTg9ezGEaoN+QddNQFfIb9C6mEDZ0pSrhCth/RdkNf0+yC365hv0w/f3yseOEZU8iTgpkHNhfOjzscLcahYV1VyL+ZRcMd2Y3pPGudQI9DFsD7LvMUJ+w1yKE6KfoEmVH8/H8ovmY65JiAJ0gkOqwMITDophHbbZBXimTAXiZ5wuqqK7UCE1uk4XB0DLoX/hlpVZ4gRSjB6Zj5l9ipZGfjIfDyPpzepw8veyruNmcrQ3CsREX7s3aA70i3ZDSVoaaT/5cxqSeU4Se6Ed1oF7mrSzlM03gpam7jbBw6hxPACMWNrQGtiitMHHyGD0ZROLmT2xFEmO6IeEcoAgL/TlhH6H3qwGP6hUsqAa+EOvnuPn2ytIGH+/rEOsgJatQ9fX1yf3kvLgBNdwXhydIlCUZxABzgjWVud+WuWt1vPxC/rcDxIhxGs1dguoYWJFodku/E4gxehxIiAsZKmvKuVqqvyemljdzjgmZ1afFXmXtQ5WE2ytA349ZdgQp7DQVNhIpA4+/r8Yv0ucOqj1xIOLcce5t4JGLBSHpx6txkYIgbMU1ibQKhnU3FNfanhVxHHqq+kwMJJETwLV4pFzX+jwnmDTTn0yrU5t2l1vN8u6JRfO2vBh3HObqp72gm09DPqHiX8ftaG+jfB2ta0z5rC3qTxsJ08F7GEe9/fc3nvQaJoYxYO2EaucoCIP2mDnU8RArRDBQhNO5ttmULR0e8zqugs8rCmFnFwHKZSqaaTafMkkrbCdI0kfON69MmvWzHOWoLz23gAlWWMrFQMhFoFTHwVz8+0WQNVWeiLGxsppBNRQb1M6DJInEPbZyunjTRInjD2xDhxmVl0j23wksu/+WKPGsqPtg9Iqpdkkpzx0wNlhQbXCjriIfczQTTmZhJxxfxYaolLhWlHHzSPAubktgoffYB0h1eiR5FqqxBOT+/uDn1P89l9I3Fd+j34kcUeD3/8H31qOQw==', 'file_directory': 'splitted_raw_data', 'filename': 'Mixed.pdf', 'category': 'CompositeElement', 'element_id': 'e3496d2e98c53debd1991642a2300bb2'}, page_content='Hình 212 Cài đặt ứng dụng  Bước 3 NSD chọn Mở để mở ứng dụng định danh điện tử  VNeID vừa tải  Bước 4 Sau khi tải về và cài đặt NSD ấn chạy ứng dụng và ấn Bắt đầu sử dụng để tiến hành sử dụng app 12 212 Đối với hệ điều hành IOS Cài đặt ứng dụng từ App Store  Bước 1 NSD mở App store trên thiết bị di động Hình 214 Vào kho ứng dụng  Bước 2 Tại mục Tìm kiếm NSD gõ VNeID 13 1019  © VNeID|  Hùy À vneid À app vneid À tải vneid q w e r tt y u  0p asd f g h j klI  z xc v bn m Ö òỶòỶòễo == RM Hình 215 Vào kho ứng dụng  Bước 3 NSD nhấn Nhận để tải ứng dụng VNeID về thiết bị di động ý Re fc khỏe  Thể di ˆ PCCovid Quốc gia xxx Hình 216 Tìm kiếm ứng dụng trên App Store 14  Bước 4 Sau khi tải xong NSD click vào ứng dụng trên màn hình chính hoặc chọn Mở trên App Store để bắt đầu sử dụng Hình 217 Ứng dụng trên điện thoại + NSD ấn Bắt đầu sử dụng để bắt đầu sử dụng app')]"
      ]
     },
     "execution_count": 25,
     "metadata": {},
     "output_type": "execute_result"
    }
   ],
   "source": [
    "texts"
   ]
  },
  {
   "cell_type": "code",
   "execution_count": 14,
   "metadata": {},
   "outputs": [
    {
     "name": "stdout",
     "output_type": "stream",
     "text": [
      "Length of splits (mixed case): 10\n"
     ]
    }
   ],
   "source": [
    "from util.preprocess import split_text_using_tiktoken\n",
    "\n",
    "texts_tiktoken = split_text_using_tiktoken(texts, chunk_size, chunk_overlap)\n",
    "\n",
    "mixed_chunks = image_summaries + texts_tiktoken\n",
    "print(\"Length of splits (mixed case): \" + str(len(mixed_chunks)))"
   ]
  },
  {
   "cell_type": "markdown",
   "metadata": {},
   "source": [
    "### Case 2: Text-heavy\n",
    "\n",
    "Text-heavy PDFs can be processed with open source without the need to use toolkits like Azure AI Document Intelligence or Unstructured.\n"
   ]
  },
  {
   "cell_type": "code",
   "execution_count": 15,
   "metadata": {},
   "outputs": [
    {
     "name": "stdout",
     "output_type": "stream",
     "text": [
      "Chunk 0\n",
      "page_content='7 \n",
      " \n",
      "1. \n",
      "GIỚI THIỆU TỔNG QUAN \n",
      "1.1 \n",
      "Đối tượng sử dụng \n",
      "- \n",
      "Dùng cho công dân Việt Nam có căn cước công dân gắn chíp thực hiện \n",
      "đăng ký tài khoản Định danh diện tử \n",
      "1.2 \n",
      " Mô tả tài liệu \n",
      "Nội dung tài liệu bao gồm các phần sau: \n",
      "1. \n",
      "Mục A: Giới thiệu tổng quan \n",
      "2. \n",
      "Mục B: Hướng dẫn các chức năng hệ thống có trên APP cho người dân sử \n",
      "dụng. \n",
      "1.3 \n",
      " Thuật ngữ viết tắt \n",
      "STT \n",
      "Thuật ngữ \n",
      "Ý nghĩa \n",
      "1 \n",
      "CCCD \n",
      "Căn cước công dân \n",
      "2 \n",
      "SĐT \n",
      "Số điện thoại \n",
      "3 \n",
      "NSD \n",
      "Người sử dụng \n",
      "1.4 Cấu trúc hệ thống \n",
      "Sau khi đăng nhập vào hệ thống, màn hình trang chủ hiển thị giao diện như hình.' metadata={'producer': '', 'creator': '', 'creationdate': '', 'source': 'splitted_raw_data/Text.pdf', 'file_path': 'splitted_raw_data/Text.pdf', 'total_pages': 1, 'format': 'PDF 1.7', 'title': '', 'author': '', 'subject': '', 'keywords': '', 'moddate': '', 'trapped': '', 'modDate': '', 'creationDate': '', 'page': 0}\n",
      "================================================================================\n",
      "Length of splits (text-heay case): 1\n"
     ]
    }
   ],
   "source": [
    "if \"Text\" in analyzed_pdf_result:\n",
    "\n",
    "    from langchain_community.document_loaders.pdf import PyMuPDFLoader\n",
    "    from langchain.text_splitter import CharacterTextSplitter, RecursiveCharacterTextSplitter\n",
    "\n",
    "    pdf_text_path = f\"{splitted_raw_data_dir}/Text.pdf\"\n",
    "    loader = PyMuPDFLoader(pdf_text_path)\n",
    "    documents = loader.load()\n",
    "\n",
    "    text_splitter = RecursiveCharacterTextSplitter(\n",
    "        chunk_size=1200, \n",
    "        chunk_overlap=200\n",
    "    )\n",
    "\n",
    "    text_chunks = text_splitter.split_documents(documents)\n",
    "\n",
    "    for idx, chunk in enumerate(text_chunks):\n",
    "        print(f\"Chunk {idx}\\n{chunk}\")\n",
    "        print(\"=\"*80)\n",
    "        if idx == 2:\n",
    "            break\n",
    "\n",
    "    text_chunks = [d.page_content for d in text_chunks]\n",
    "    print(\"Length of splits (text-heay case): \" + str(len(text_chunks)))\n",
    "else:\n",
    "    text_chunks = []"
   ]
  },
  {
   "cell_type": "markdown",
   "metadata": {},
   "source": [
    "### Case 3: Image-heavy\n",
    "\n",
    "Image-heavy PDF can be converted the entire page to images and let a multimodal LLM like GPT-4o summarize each page.\n",
    "\n",
    "### Preprocess Image\n"
   ]
  },
  {
   "cell_type": "code",
   "execution_count": 16,
   "metadata": {},
   "outputs": [
    {
     "name": "stdout",
     "output_type": "stream",
     "text": [
      "The folder './pdf_image_tmp' and its contents have been deleted.\n"
     ]
    }
   ],
   "source": [
    "if \"Image\" in analyzed_pdf_result:\n",
    "    import fitz\n",
    "    from glob import glob\n",
    "\n",
    "    image_dir = \"./pdf_image_tmp\"\n",
    "    delete_folder_and_make_folder(image_dir) \n",
    "\n",
    "    pdf_image_path = f\"{splitted_raw_data_dir}/Image.pdf\"\n",
    "    doc = fitz.open(pdf_image_path)\n",
    "    #clip_x, clip_y = 10, 45\n",
    "    clip_x, clip_y = 10, 10\n",
    "\n",
    "    for i, page in enumerate(doc):\n",
    "        x, y, w, h = page.rect\n",
    "        clip = fitz.Rect(x+clip_x, y+clip_y, w-clip_x, h-clip_y)\n",
    "        page.set_cropbox(clip)\n",
    "        pix = page.get_pixmap()\n",
    "        pix.save(f\"{image_dir}/page_{i:03d}.jpg\")\n",
    "\n",
    "    images = sorted(glob(os.path.join(image_dir, \"*.jpg\")))"
   ]
  },
  {
   "cell_type": "code",
   "execution_count": 17,
   "metadata": {},
   "outputs": [],
   "source": [
    "from langchain.schema.output_parser import StrOutputParser\n",
    "from langchain_core.prompts import ChatPromptTemplate, HumanMessagePromptTemplate, SystemMessagePromptTemplate\n",
    "from langchain_openai import AzureChatOpenAI\n",
    "\n",
    "max_tokens = 1024\n",
    "# llm = AzureChatOpenAI(\n",
    "#     temperature=0, \n",
    "#     max_tokens=max_tokens,\n",
    "#     openai_api_version=aoai_api_version,\n",
    "#     azure_deployment=aoai_deployment_name                  \n",
    "# )\n",
    "llm = ChatOllama(\n",
    "    model=\"gemma3:4b-it-qat\",\n",
    "    temperature=0,\n",
    "    base_url=\"http://localhost:11434\",\n",
    "    num_predict=max_tokens\n",
    ")\n",
    "\n",
    "human_prompt_main = f\"Given image, give a concise summary in {LANGUAGE}. Don't insert any XML tag such as <text> and </text> when answering.\"\n",
    "\n",
    "system_prompt = \"You are an assistant tasked with describing table or image, specialized in Smartphone product.\"\n",
    "system_message_template = SystemMessagePromptTemplate.from_template(system_prompt)\n",
    "human_prompt = [\n",
    "    {\n",
    "        \"type\": \"image_url\",\n",
    "        \"image_url\": {\n",
    "            \"url\": \"data:image/png;base64,\" + \"{image_base64}\",\n",
    "        },\n",
    "    },\n",
    "    {\n",
    "        \"type\": \"text\",\n",
    "        \"text\": human_prompt_main\n",
    "    },\n",
    "]\n",
    "human_message_template = HumanMessagePromptTemplate.from_template(human_prompt)\n",
    "\n",
    "prompt = ChatPromptTemplate.from_messages(\n",
    "    [\n",
    "        system_message_template,\n",
    "        human_message_template\n",
    "    ]\n",
    ")\n",
    "\n",
    "summarize_chain = prompt | llm | StrOutputParser()"
   ]
  },
  {
   "cell_type": "code",
   "execution_count": 18,
   "metadata": {},
   "outputs": [
    {
     "name": "stdout",
     "output_type": "stream",
     "text": [
      "Length of image_summaries (image-heavy case): 2\n",
      "CPU times: user 88.4 ms, sys: 5.15 ms, total: 93.5 ms\n",
      "Wall time: 5min 29s\n"
     ]
    }
   ],
   "source": [
    "%%time\n",
    "if \"Image\" in analyzed_pdf_result:\n",
    "    from util.preprocess import encode_image_base64\n",
    "    #images = glob(os.path.join(image_path, \"*.jpg\"))\n",
    "    base64_images = [encode_image_base64(img_path) for img_path in images]\n",
    "    image_summaries = summarize_chain.batch(base64_images, {\"max_concurrency\": 8})\n",
    "    image_summaries = remove_short_sentences(image_summaries)\n",
    "    print(\"Length of image_summaries (image-heavy case): \" + str(len(image_summaries)))\n",
    "else:\n",
    "    image_summaries = []\n"
   ]
  },
  {
   "cell_type": "code",
   "execution_count": 19,
   "metadata": {},
   "outputs": [
    {
     "data": {
      "text/plain": [
       "['Hình ảnh này hướng dẫn sử dụng mã QR để đăng nhập vào các ứng dụng trên điện thoại, bao gồm cả các ứng dụng chính phủ và các ứng dụng khác.',\n",
       " 'Hình ảnh minh họa giao diện ứng dụng định danh điện tử quốc gia Việt Nam (VNeID) với các biểu tượng liên quan đến xác thực và đăng nhập.']"
      ]
     },
     "execution_count": 19,
     "metadata": {},
     "output_type": "execute_result"
    }
   ],
   "source": [
    "image_summaries"
   ]
  },
  {
   "cell_type": "markdown",
   "metadata": {},
   "source": [
    "## 2. Construct QnA Pairs\n",
    "\n",
    "---\n",
    "\n",
    "### Option 1.\n",
    "\n",
    "Leverage the `azure-ai-generative` package. The `QADataGenerator` class in this package makes it easy to generate QnA synthetic questions. However, using this class as is has the disadvantage of not being able to use custom prompts, so we inherited from it and created the `CustomQADataGenerator` class.\n"
   ]
  },
  {
   "cell_type": "markdown",
   "metadata": {},
   "source": [
    "### Option 2.\n",
    "\n",
    "You write the entire sequence of code to create a QnA dataset without using a separate toolkit.\n"
   ]
  },
  {
   "cell_type": "code",
   "execution_count": null,
   "metadata": {},
   "outputs": [],
   "source": [
    "# aoai_api_endpoint = os.getenv(\"AZURE_OPENAI_ENDPOINT\")\n",
    "# aoai_api_key = os.getenv(\"AZURE_OPENAI_API_KEY\")\n",
    "# aoai_api_version = os.getenv(\"AZURE_OPENAI_API_VERSION\")\n",
    "# aoai_deployment_name = os.getenv(\"AZURE_OPENAI_DEPLOYMENT_NAME\")"
   ]
  },
  {
   "cell_type": "code",
   "execution_count": 22,
   "metadata": {},
   "outputs": [],
   "source": [
    "from langchain_core.runnables import RunnablePassthrough, RunnableLambda\n",
    "from langchain_core.output_parsers import JsonOutputParser\n",
    "from langchain.callbacks.streaming_stdout import StreamingStdOutCallbackHandler\n",
    "\n",
    "from util.qa_pair import get_qna_prompt_template, QAPair\n",
    "\n",
    "# llm = AzureChatOpenAI(\n",
    "#     temperature=0, \n",
    "#     max_tokens=1024,\n",
    "#     openai_api_version=aoai_api_version,\n",
    "#     azure_deployment=aoai_deployment_name                    \n",
    "# )\n",
    "\n",
    "llm = ChatOllama(\n",
    "    model=\"gemma3:4b-it-qat\",\n",
    "    temperature=0,\n",
    "    base_url=\"http://localhost:11434\",\n",
    "    num_predict=max_tokens\n",
    ")\n",
    "\n",
    "parser = JsonOutputParser(pydantic_object=QAPair)\n",
    "prompt = get_qna_prompt_template(LANGUAGE)\n",
    "\n",
    "chain = prompt | llm | parser"
   ]
  },
  {
   "cell_type": "code",
   "execution_count": 23,
   "metadata": {},
   "outputs": [],
   "source": [
    "input_batch = []\n",
    "\n",
    "for doc in mixed_chunks:\n",
    "    dic = {\"context\": doc, \"domain\": DOMAIN, \"num_questions\": \"3\"}\n",
    "    input_batch.append(dic)\n",
    "\n",
    "for doc in text_chunks:\n",
    "    dic = {\"context\": doc, \"domain\": DOMAIN, \"num_questions\": \"3\"}\n",
    "    input_batch.append(dic)\n",
    "\n",
    "for doc in image_summaries:\n",
    "    dic = {\"context\": doc, \"domain\": DOMAIN, \"num_questions\": \"3\"}\n",
    "    input_batch.append(dic)        "
   ]
  },
  {
   "cell_type": "code",
   "execution_count": 24,
   "metadata": {},
   "outputs": [
    {
     "name": "stdout",
     "output_type": "stream",
     "text": [
      "CPU times: user 2.03 s, sys: 73.2 ms, total: 2.11 s\n",
      "Wall time: 18min 40s\n"
     ]
    }
   ],
   "source": [
    "%%time\n",
    "qa_pair = chain.batch(input_batch, {\"max_concurrency\": 5})"
   ]
  },
  {
   "cell_type": "code",
   "execution_count": 26,
   "metadata": {},
   "outputs": [
    {
     "data": {
      "text/plain": [
       "[[{'QUESTION': 'Ứng dụng VNeID hiển thị mã QR để làm gì?',\n",
       "   'ANSWER': 'Ứng dụng VNeID hiển thị mã QR để đăng ký thông tin liên quan đến phòng chống Covid-19.'},\n",
       "  {'QUESTION': 'Giao diện ứng dụng VNeID có những biểu tượng nào?',\n",
       "   'ANSWER': 'Giao diện ứng dụng VNeID bao gồm các biểu tượng tìm kiếm, trò chơi, và thông tin.'},\n",
       "  {'QUESTION': 'Ứng dụng VNeID có liên quan đến việc đăng ký thông tin gì?',\n",
       "   'ANSWER': 'Ứng dụng VNeID liên quan đến việc đăng ký thông tin liên quan đến phòng chống Covid-19.'}],\n",
       " [{'QUESTION': 'Theo thông tin được cung cấp, các thủ tục liên quan đến hộ tịch bao gồm những loại thủ tục nào?',\n",
       "   'ANSWER': 'Thông tin cho thấy các thủ tục liên quan đến hộ tịch bao gồm đăng ký hộ tịch mức 1 và mức 2, cũng như việc chia sẻ thông tin hộ tịch cho các cơ quan chức năng.'},\n",
       "  {'QUESTION': 'Hình ảnh mô tả những thủ tục nào liên quan đến việc sử dụng giấy tờ hộ tịch?',\n",
       "   'ANSWER': 'Hình ảnh mô tả các thủ tục liên quan đến việc sử dụng hộ tịch, đặc biệt là các thủ tục liên quan đến Cần Cước Dân và việc sử dụng các giấy tờ hộ tịch.'},\n",
       "  {'QUESTION': 'Việc chia sẻ thông tin hộ tịch được thực hiện cho những cơ quan nào theo thông tin?',\n",
       "   'ANSWER': 'Thông tin cho thấy việc chia sẻ thông tin hộ tịch được thực hiện cho các cơ quan chức năng.'}],\n",
       " [{'QUESTION': 'Ứng dụng VNID có dung lượng bao nhiêu?',\n",
       "   'ANSWER': 'Ứng dụng VNID có dung lượng 4MB.'},\n",
       "  {'QUESTION': 'Đánh giá của người dùng cho ứng dụng VNID là bao nhiêu?',\n",
       "   'ANSWER': 'Ứng dụng VNID hiện đang đạt đánh giá 2.9 sao.'},\n",
       "  {'QUESTION': 'Ứng dụng VNID phù hợp với đối tượng người dùng nào?',\n",
       "   'ANSWER': 'Ứng dụng VNID phù hợp cho người dùng từ 3 tuổi trở lên.'}],\n",
       " [{'QUESTION': 'Bàn phím hiển thị ngôn ngữ nào?',\n",
       "   'ANSWER': 'Bàn phím hiển thị ngôn ngữ tiếng Việt.'},\n",
       "  {'QUESTION': 'Thanh tìm kiếm hiện đang hiển thị những từ nào?',\n",
       "   'ANSWER': \"Thanh tìm kiếm hiện đang hiển thị các từ 'vneid' và 'vneid'.\"},\n",
       "  {'QUESTION': 'Hình ảnh này mô tả điều gì?',\n",
       "   'ANSWER': 'Hình ảnh này hiển thị một bàn phím điện thoại.'}],\n",
       " [{'QUESTION': 'Ứng dụng VNeID có những lựa chọn nào được đề cập trong hình ảnh?',\n",
       "   'ANSWER': 'Hình ảnh hiển thị ứng dụng VNeID, VNeID của bộ công an, và ứng dụng VNeID.'},\n",
       "  {'QUESTION': 'Hình ảnh này có đề cập đến loại ứng dụng nào thuộc về Bộ Công An?',\n",
       "   'ANSWER': 'Hình ảnh đề cập đến ứng dụng VNeID của bộ công an.'},\n",
       "  {'QUESTION': 'Hình ảnh cung cấp thông tin về ứng dụng nào?',\n",
       "   'ANSWER': 'Hình ảnh cung cấp thông tin về ứng dụng VNeID.'}],\n",
       " [{'QUESTION': 'Ứng dụng nào trên màn hình hiển thị?',\n",
       "   'ANSWER': 'Màn hình hiển thị các ứng dụng Google, Cửa hàng Google Play, danh bạ, cài đặt và ứng dụng đồng hồ.'},\n",
       "  {'QUESTION': 'Nhiệt độ hiện tại ở Hà Nội là bao nhiêu?',\n",
       "   'ANSWER': 'Nhiệt độ hiện tại ở Hà Nội là 34°C.'},\n",
       "  {'QUESTION': 'Có ứng dụng nào liên quan đến danh bạ được hiển thị trên màn hình?',\n",
       "   'ANSWER': 'Danh bạ là một trong các ứng dụng được hiển thị trên màn hình.'}],\n",
       " [{'QUESTION': 'Hình ảnh này hiển thị những ứng dụng nào trên màn hình điện thoại?',\n",
       "   'ANSWER': 'Hình ảnh hiển thị các ứng dụng như Mail, Podcast, App Store và Tiện ích trên màn hình điện thoại.'},\n",
       "  {'QUESTION': 'Có ứng dụng nào liên quan đến mua bán hàng hóa trên hình ảnh không?',\n",
       "   'ANSWER': 'Hình ảnh hiển thị ứng dụng App Store, có thể được sử dụng để tải xuống các ứng dụng liên quan đến mua bán hàng hóa.'},\n",
       "  {'QUESTION': 'Hình ảnh có đề cập đến ứng dụng nào liên quan đến nghe nhạc?',\n",
       "   'ANSWER': 'Hình ảnh hiển thị ứng dụng Podcast, có thể được sử dụng để nghe các chương trình phát sóng âm thanh.'}],\n",
       " [{'QUESTION': 'Ứng dụng VNID có chức năng chính nào?',\n",
       "   'ANSWER': 'Ứng dụng VNID có chức năng quản lý dữ liệu quốc gia và quét mã QR.'},\n",
       "  {'QUESTION': 'Ứng dụng VNID có dung lượng bao nhiêu?',\n",
       "   'ANSWER': 'Ứng dụng VNID có dung lượng là 4.0 MB.'},\n",
       "  {'QUESTION': 'Đối tượng sử dụng của ứng dụng VNID là ai?',\n",
       "   'ANSWER': 'Ứng dụng VNID phù hợp với người dùng từ 3 tuổi trở lên.'}],\n",
       " [{'QUESTION': 'Các ứng dụng nào được hiển thị trên màn hình điện thoại iPhone trong hình ảnh?',\n",
       "   'ANSWER': 'Hình ảnh hiển thị các ứng dụng như Dịch thuật, Danh bạ, Phim ảnh, Watch, Mèo, Tiện ích, Năng suất, CGV Cinemas và Số thu chi.'},\n",
       "  {'QUESTION': 'Có ứng dụng nào liên quan đến giải trí được hiển thị trong hình ảnh?',\n",
       "   'ANSWER': 'Hình ảnh hiển thị ứng dụng Phim ảnh và ứng dụng Mèo, cả hai đều liên quan đến giải trí.'},\n",
       "  {'QUESTION': 'Hình ảnh có hiển thị ứng dụng nào để quản lý tài chính?',\n",
       "   'ANSWER': 'Hình ảnh hiển thị ứng dụng Số thu chi, cho thấy có một ứng dụng được sử dụng để quản lý tài chính.'}],\n",
       " [{'QUESTION': 'Theo tài liệu, ứng dụng VNeID có thể được cài đặt trên hệ điều hành nào?',\n",
       "   'ANSWER': 'Ứng dụng VNeID có thể được cài đặt trên hệ điều hành Android và iOS.'},\n",
       "  {'QUESTION': 'Các chức năng chính của ứng dụng VNeID theo thông tin trong tài liệu là gì?',\n",
       "   'ANSWER': 'Ứng dụng VNeID cung cấp các chức năng như đăng nhập, đăng ký, kiểm tra tình trạng xử lý hồ sơ, thanh toán hóa đơn và tích hợp thông tin thẻ căn cước công dân.'},\n",
       "  {'QUESTION': 'Quá trình cài đặt ứng dụng VNeID trên hệ điều hành Android bao gồm những bước nào?',\n",
       "   'ANSWER': 'Quá trình cài đặt ứng dụng VNeID trên hệ điều hành Android bao gồm việc tìm ứng dụng trên CH Play, chọn cài đặt, mở ứng dụng và ấn bắt đầu sử dụng.'}],\n",
       " [{'QUESTION': 'Đối tượng chính nào được hướng dẫn sử dụng ứng dụng VNeID?',\n",
       "   'ANSWER': 'Ứng dụng VNeID được sử dụng cho công dân Việt Nam có căn cước công dân gắn chíp để đăng ký tài khoản Định danh diện tử.'},\n",
       "  {'QUESTION': 'Theo tài liệu, thuật ngữ viết tắt nào có nghĩa là ‘Căn cước công dân’?',\n",
       "   'ANSWER': 'Thuật ngữ ‘CCCD’ trong tài liệu có nghĩa là ‘Căn cước công dân’.'},\n",
       "  {'QUESTION': 'Mục nào của tài liệu cung cấp hướng dẫn về các chức năng hệ thống trên ứng dụng?',\n",
       "   'ANSWER': 'Mục B của tài liệu cung cấp hướng dẫn về các chức năng hệ thống có trên ứng dụng VNeID.'}],\n",
       " [{'QUESTION': 'Hình ảnh này mô tả cách sử dụng mã QR để làm gì?',\n",
       "   'ANSWER': 'Hình ảnh này hướng dẫn sử dụng mã QR để đăng nhập vào các ứng dụng trên điện thoại, bao gồm cả các ứng dụng chính phủ và các ứng dụng khác.'},\n",
       "  {'QUESTION': 'Các loại ứng dụng nào có thể được đăng nhập bằng mã QR theo hướng dẫn này?',\n",
       "   'ANSWER': 'Hướng dẫn này bao gồm việc đăng nhập vào các ứng dụng chính phủ và các ứng dụng khác trên điện thoại.'},\n",
       "  {'QUESTION': 'Mục đích chính của việc sử dụng mã QR trong ứng dụng được đề cập?',\n",
       "   'ANSWER': 'Mục đích chính của việc sử dụng mã QR là đăng nhập vào các ứng dụng trên điện thoại.'}],\n",
       " [{'QUESTION': 'Hình ảnh này minh họa ứng dụng nào?',\n",
       "   'ANSWER': 'Hình ảnh minh họa giao diện ứng dụng định danh điện tử quốc gia Việt Nam (VNeID).'},\n",
       "  {'QUESTION': 'Hình ảnh có hiển thị những biểu tượng nào liên quan đến chức năng của ứng dụng?',\n",
       "   'ANSWER': 'Hình ảnh hiển thị các biểu tượng liên quan đến xác thực và đăng nhập.'},\n",
       "  {'QUESTION': 'Ứng dụng VNeID được sử dụng cho mục đích gì theo hình ảnh?',\n",
       "   'ANSWER': 'Hình ảnh cho thấy ứng dụng VNeID được sử dụng để xác thực và đăng nhập.'}]]"
      ]
     },
     "execution_count": 26,
     "metadata": {},
     "output_type": "execute_result"
    }
   ],
   "source": [
    "qa_pair"
   ]
  },
  {
   "cell_type": "markdown",
   "metadata": {},
   "source": [
    "## 3. Save to jsonl\n",
    "\n",
    "---\n",
    "\n",
    "If you want to augment dataset, you can try Evovle-Instruct or other data augmentation techniques.<br>\n",
    "Please refer to `../evolve-instruct` and `../glan-instruct` for more details.\n"
   ]
  },
  {
   "cell_type": "code",
   "execution_count": 28,
   "metadata": {},
   "outputs": [],
   "source": [
    "import json\n",
    "from util.common_utils import convert_to_oai_format, save_jsonl\n",
    "\n",
    "output_dir = './dataset'\n",
    "os.makedirs(output_dir, exist_ok=True)\n",
    "\n",
    "system_prompt_msg = f\"\"\"You are the SME (Subject Matter Expert) in {DOMAIN}. Please answer the questions accurately. If the question is in {LANGUAGE}, write your answer in {LANGUAGE}.\"\"\"\n",
    "\n",
    "save_filename = \"advertising\"\n",
    "oai_qa_pair = convert_to_oai_format(qa_pair, system_prompt_msg=system_prompt_msg)\n",
    "\n",
    "#save_jsonl(qa_pair, f\"{output_dir}/{save_filename}.jsonl\")\n",
    "save_jsonl(oai_qa_pair, f\"{output_dir}/{save_filename}-oai.jsonl\")"
   ]
  },
  {
   "cell_type": "markdown",
   "metadata": {},
   "source": [
    "### Clean up\n"
   ]
  },
  {
   "cell_type": "code",
   "execution_count": null,
   "metadata": {},
   "outputs": [],
   "source": [
    "!rm -rf {splitted_raw_data_dir} pdf_image_tmp pdf_mixed_tmp outputs_tmp images"
   ]
  }
 ],
 "metadata": {
  "kernelspec": {
   "display_name": "qa-gen",
   "language": "python",
   "name": "python3"
  },
  "language_info": {
   "codemirror_mode": {
    "name": "ipython",
    "version": 3
   },
   "file_extension": ".py",
   "mimetype": "text/x-python",
   "name": "python",
   "nbconvert_exporter": "python",
   "pygments_lexer": "ipython3",
   "version": "3.10.16"
  }
 },
 "nbformat": 4,
 "nbformat_minor": 4
}
